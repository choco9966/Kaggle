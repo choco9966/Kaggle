{
 "cells": [
  {
   "cell_type": "raw",
   "metadata": {},
   "source": [
    "BaseLine IEEE Model 9549"
   ]
  },
  {
   "cell_type": "code",
   "execution_count": 1,
   "metadata": {},
   "outputs": [],
   "source": [
    "import numpy as np # linear algebra\n",
    "import pandas as pd # data processing, CSV file I/O (e.g. pd.read_csv)\n",
    "import scipy as sp\n",
    "from scipy import stats\n",
    "import matplotlib.pyplot as plt\n",
    "import seaborn as sns\n",
    "\n",
    "# Standard plotly imports\n",
    "#import plotly.plotly as py\n",
    "import plotly.graph_objs as go\n",
    "import plotly.tools as tls\n",
    "from plotly.offline import iplot, init_notebook_mode\n",
    "#import cufflinks\n",
    "#import cufflinks as cf\n",
    "import plotly.figure_factory as ff\n",
    "import gc\n",
    "from tqdm import tqdm_notebook\n",
    "from tqdm import tqdm\n",
    "from sklearn.preprocessing import LabelEncoder\n",
    "tqdm.pandas()"
   ]
  },
  {
   "cell_type": "code",
   "execution_count": 2,
   "metadata": {},
   "outputs": [],
   "source": [
    "## Function to reduce the DF size\n",
    "def reduce_mem_usage(df, verbose=True):\n",
    "    numerics = ['int16', 'int32', 'int64', 'float16', 'float32', 'float64']\n",
    "    start_mem = df.memory_usage().sum() / 1024**2    \n",
    "    for col in df.columns:\n",
    "        col_type = df[col].dtypes\n",
    "        if col_type in numerics:\n",
    "            c_min = df[col].min()\n",
    "            c_max = df[col].max()\n",
    "            if str(col_type)[:3] == 'int':\n",
    "                if c_min > np.iinfo(np.int8).min and c_max < np.iinfo(np.int8).max:\n",
    "                    df[col] = df[col].astype(np.int8)\n",
    "                elif c_min > np.iinfo(np.int16).min and c_max < np.iinfo(np.int16).max:\n",
    "                    df[col] = df[col].astype(np.int16)\n",
    "                elif c_min > np.iinfo(np.int32).min and c_max < np.iinfo(np.int32).max:\n",
    "                    df[col] = df[col].astype(np.int32)\n",
    "                elif c_min > np.iinfo(np.int64).min and c_max < np.iinfo(np.int64).max:\n",
    "                    df[col] = df[col].astype(np.int64)  \n",
    "            else:\n",
    "                if c_min > np.finfo(np.float16).min and c_max < np.finfo(np.float16).max:\n",
    "                    df[col] = df[col].astype(np.float16)\n",
    "                elif c_min > np.finfo(np.float32).min and c_max < np.finfo(np.float32).max:\n",
    "                    df[col] = df[col].astype(np.float32)\n",
    "                else:\n",
    "                    df[col] = df[col].astype(np.float64)    \n",
    "    end_mem = df.memory_usage().sum() / 1024**2\n",
    "    if verbose: print('Mem. usage decreased to {:5.2f} Mb ({:.1f}% reduction)'.format(end_mem, 100 * (start_mem - end_mem) / start_mem))\n",
    "    return df"
   ]
  },
  {
   "cell_type": "code",
   "execution_count": 3,
   "metadata": {},
   "outputs": [],
   "source": [
    "trans_cat_cols = [\"ProductCD\",\"card1\",\"card2\",\"card3\",\"card4\",\"card5\",\"card6\",\"addr1\",\"addr2\",\"P_emaildomain_bin\",\"P_emaildomain_suffix\",\n",
    "                   \"R_emaildomain_bin\",\"R_emaildomain_suffix\",\"M1\",\"M2\",\"M3\",\"M4\",\"M5\",\"M6\",\"M7\",\"M8\",\"M9\"]\n",
    "\n",
    "iden_cat_cols = [\"DeviceType\",\"DeviceInfo\",\"id_12\",\n",
    "                   \"id_13\",\"id_14\",\"id_15\",\"id_16\",\"id_17\",\"id_18\",\"id_19\",\"id_20\",\"id_21\",\"id_22\",\"id_23\",\"id_24\",\n",
    "                   \"id_25\",\"id_26\",\"id_27\",\"id_28\",\"id_29\",\"id_30\",\"id_31\",\"id_32\",\"id_33\",\"id_34\",\"id_35\",\"id_36\",\n",
    "                   \"id_37\",\"id_38\"]"
   ]
  },
  {
   "cell_type": "code",
   "execution_count": 4,
   "metadata": {},
   "outputs": [],
   "source": [
    "def transform_transaction_catcols(df1, df2):\n",
    "    for cat_col in tqdm_notebook( trans_cat_cols): \n",
    "        # Get the indices for NaN values\n",
    "        trn_null_ind = [ind for ind, val in enumerate(df1[cat_col].isnull().values) if val == True]\n",
    "        ts_null_ind = [ind for ind, val in enumerate(df2[cat_col].isnull().values) if val == True]\n",
    "        \n",
    "        uniq_train_cat_val , uniq_test_cat_val = set(df1[cat_col].dropna() ), set(df2[cat_col].dropna() )\n",
    "        common_cat_val = uniq_train_cat_val.intersection(uniq_test_cat_val)\n",
    "        df1.loc[ ~df1[cat_col].isin( common_cat_val), cat_col ] = -99999\n",
    "        df2.loc[ ~df2[cat_col].isin( common_cat_val), cat_col ] = -99999\n",
    "        \n",
    "        # Replace the value for orignal NaN values\n",
    "        df1.loc[df1.index.isin(trn_null_ind), cat_col] = np.NaN\n",
    "        df2.loc[df2.index.isin(ts_null_ind), cat_col] = np.NaN\n",
    "        \n",
    "    del uniq_train_cat_val, uniq_test_cat_val, common_cat_val; gc.collect()\n",
    "    \n",
    "    # Reduce the usage of memory\n",
    "    df1 = reduce_mem_usage(df1)\n",
    "    df2 = reduce_mem_usage(df2)\n",
    "    \n",
    "    return df1, df2\n",
    "\n",
    "def transform_identity_catcols(df1,df2):\n",
    "    for cat_col in tqdm_notebook( iden_cat_cols ): \n",
    "        \n",
    "        # Get the indices for NaN values\n",
    "        trn_null_ind = [ind for ind, val in enumerate(df1[cat_col].isnull().values) if val == True]\n",
    "        ts_null_ind = [ind for ind, val in enumerate(df2[cat_col].isnull().values) if val == True]\n",
    "        \n",
    "        uniq_train_cat_val , uniq_test_cat_val = set(df1[cat_col].dropna() ), set(df2[cat_col].dropna() )\n",
    "        common_cat_val = uniq_train_cat_val.intersection(uniq_test_cat_val)\n",
    "        df1.loc[ ~df1[cat_col].isin( common_cat_val), cat_col ] = -99999\n",
    "        df2.loc[ ~df2[cat_col].isin( common_cat_val), cat_col ] = -99999\n",
    "        \n",
    "        # Replace the value for orignal NaN values\n",
    "        df1.loc[df1.index.isin(trn_null_ind), cat_col] =  np.NaN\n",
    "        df2.loc[df2.index.isin(ts_null_ind), cat_col] =  np.NaN\n",
    "        \n",
    "        \n",
    "    del uniq_train_cat_val, uniq_test_cat_val, common_cat_val; gc.collect();\n",
    "    \n",
    "    # Reduce the usage of memory\n",
    "    df1 = reduce_mem_usage(df1)\n",
    "    df2 = reduce_mem_usage(df2)\n",
    "    \n",
    "    return df1, df2"
   ]
  },
  {
   "cell_type": "markdown",
   "metadata": {},
   "source": [
    "## 1. Preprocessing"
   ]
  },
  {
   "cell_type": "code",
   "execution_count": 5,
   "metadata": {},
   "outputs": [],
   "source": [
    "train_idf = pd.read_csv('./input/train_identity.csv')\n",
    "train_trans = pd.read_csv('./input/train_transaction.csv')\n",
    "\n",
    "test_idf =pd.read_csv('input/test_identity.csv')\n",
    "test_trans = pd.read_csv('input/test_transaction.csv')"
   ]
  },
  {
   "cell_type": "code",
   "execution_count": 6,
   "metadata": {},
   "outputs": [
    {
     "name": "stderr",
     "output_type": "stream",
     "text": [
      "100%|███████████████████████████████████████████████████████████████████████| 590540/590540 [00:08<00:00, 66315.38it/s]\n",
      "100%|████████████████████████████████████████████████████████████████████████| 590540/590540 [01:29<00:00, 6568.94it/s]\n",
      "100%|███████████████████████████████████████████████████████████████████████| 506691/506691 [00:08<00:00, 56859.18it/s]\n",
      "100%|████████████████████████████████████████████████████████████████████████| 506691/506691 [01:46<00:00, 4745.74it/s]\n"
     ]
    }
   ],
   "source": [
    "# Email\n",
    "def email_categorical_expression(emails):\n",
    "    \"\"\"\n",
    "    Get the type of email\n",
    "    (1) Both \"P_emaildomain\" & \"R_emaildomain\" are None\n",
    "    (2) \"P_emaildomain\" is None, but \"R_emaildomain\" isn't None\n",
    "    (3) \"P_emaildomain\" isn't None, but \"R_emaildomain\" is None\n",
    "    (4) Both \"P_emaildomain\" & \"R_emaildomain\" aren't None\n",
    "    \"\"\"\n",
    "    P_emaildomain, R_emaildomain = emails\n",
    "\n",
    "    if type(P_emaildomain) ==  float:\n",
    "        if type(R_emaildomain) == float:\n",
    "            email_type = 1\n",
    "        else:\n",
    "            email_type = 2\n",
    "    else:\n",
    "        if type(R_emaildomain) == float:\n",
    "            email_type = 3\n",
    "        else:\n",
    "            email_type = 4\n",
    "    return email_type    \n",
    "    \n",
    "def email_null_concat(emails):\n",
    "    \"\"\"\n",
    "    Get the row-wise concat of email_address\n",
    "    \"\"\"\n",
    "    temp = emails.isnull().astype(np.int8)\n",
    "    label= ''\n",
    "    for col in ['P_emaildomain','R_emaildomain']:\n",
    "        label += str(temp[col] ) +'_'\n",
    "    return label\n",
    "\n",
    "# Implement\n",
    "train_trans['email_type'] = train_trans[['P_emaildomain', 'R_emaildomain']].progress_apply(lambda x : email_categorical_expression(x) , axis=1)\n",
    "train_trans['email_null_concat'] = train_trans[['P_emaildomain', 'R_emaildomain']].progress_apply(lambda x : email_null_concat(x) , axis=1)\n",
    "\n",
    "test_trans['email_type'] = test_trans[['P_emaildomain', 'R_emaildomain']].progress_apply(lambda x : email_categorical_expression(x) , axis=1)\n",
    "test_trans['email_null_concat'] = test_trans[['P_emaildomain', 'R_emaildomain']].progress_apply(lambda x : email_null_concat(x) , axis=1)"
   ]
  },
  {
   "cell_type": "code",
   "execution_count": 7,
   "metadata": {},
   "outputs": [
    {
     "data": {
      "text/html": [
       "<div>\n",
       "<style scoped>\n",
       "    .dataframe tbody tr th:only-of-type {\n",
       "        vertical-align: middle;\n",
       "    }\n",
       "\n",
       "    .dataframe tbody tr th {\n",
       "        vertical-align: top;\n",
       "    }\n",
       "\n",
       "    .dataframe thead th {\n",
       "        text-align: right;\n",
       "    }\n",
       "</style>\n",
       "<table border=\"1\" class=\"dataframe\">\n",
       "  <thead>\n",
       "    <tr style=\"text-align: right;\">\n",
       "      <th></th>\n",
       "      <th>TransactionID</th>\n",
       "      <th>isFraud</th>\n",
       "      <th>TransactionDT</th>\n",
       "      <th>TransactionAmt</th>\n",
       "      <th>ProductCD</th>\n",
       "      <th>card1</th>\n",
       "      <th>card2</th>\n",
       "      <th>card3</th>\n",
       "      <th>card4</th>\n",
       "      <th>card5</th>\n",
       "      <th>...</th>\n",
       "      <th>V332</th>\n",
       "      <th>V333</th>\n",
       "      <th>V334</th>\n",
       "      <th>V335</th>\n",
       "      <th>V336</th>\n",
       "      <th>V337</th>\n",
       "      <th>V338</th>\n",
       "      <th>V339</th>\n",
       "      <th>email_type</th>\n",
       "      <th>email_null_concat</th>\n",
       "    </tr>\n",
       "  </thead>\n",
       "  <tbody>\n",
       "    <tr>\n",
       "      <th>0</th>\n",
       "      <td>2987000</td>\n",
       "      <td>0</td>\n",
       "      <td>86400</td>\n",
       "      <td>68.5</td>\n",
       "      <td>W</td>\n",
       "      <td>13926</td>\n",
       "      <td>NaN</td>\n",
       "      <td>150.0</td>\n",
       "      <td>discover</td>\n",
       "      <td>142.0</td>\n",
       "      <td>...</td>\n",
       "      <td>NaN</td>\n",
       "      <td>NaN</td>\n",
       "      <td>NaN</td>\n",
       "      <td>NaN</td>\n",
       "      <td>NaN</td>\n",
       "      <td>NaN</td>\n",
       "      <td>NaN</td>\n",
       "      <td>NaN</td>\n",
       "      <td>1</td>\n",
       "      <td>1_1_</td>\n",
       "    </tr>\n",
       "    <tr>\n",
       "      <th>1</th>\n",
       "      <td>2987001</td>\n",
       "      <td>0</td>\n",
       "      <td>86401</td>\n",
       "      <td>29.0</td>\n",
       "      <td>W</td>\n",
       "      <td>2755</td>\n",
       "      <td>404.0</td>\n",
       "      <td>150.0</td>\n",
       "      <td>mastercard</td>\n",
       "      <td>102.0</td>\n",
       "      <td>...</td>\n",
       "      <td>NaN</td>\n",
       "      <td>NaN</td>\n",
       "      <td>NaN</td>\n",
       "      <td>NaN</td>\n",
       "      <td>NaN</td>\n",
       "      <td>NaN</td>\n",
       "      <td>NaN</td>\n",
       "      <td>NaN</td>\n",
       "      <td>3</td>\n",
       "      <td>0_1_</td>\n",
       "    </tr>\n",
       "    <tr>\n",
       "      <th>2</th>\n",
       "      <td>2987002</td>\n",
       "      <td>0</td>\n",
       "      <td>86469</td>\n",
       "      <td>59.0</td>\n",
       "      <td>W</td>\n",
       "      <td>4663</td>\n",
       "      <td>490.0</td>\n",
       "      <td>150.0</td>\n",
       "      <td>visa</td>\n",
       "      <td>166.0</td>\n",
       "      <td>...</td>\n",
       "      <td>NaN</td>\n",
       "      <td>NaN</td>\n",
       "      <td>NaN</td>\n",
       "      <td>NaN</td>\n",
       "      <td>NaN</td>\n",
       "      <td>NaN</td>\n",
       "      <td>NaN</td>\n",
       "      <td>NaN</td>\n",
       "      <td>3</td>\n",
       "      <td>0_1_</td>\n",
       "    </tr>\n",
       "    <tr>\n",
       "      <th>3</th>\n",
       "      <td>2987003</td>\n",
       "      <td>0</td>\n",
       "      <td>86499</td>\n",
       "      <td>50.0</td>\n",
       "      <td>W</td>\n",
       "      <td>18132</td>\n",
       "      <td>567.0</td>\n",
       "      <td>150.0</td>\n",
       "      <td>mastercard</td>\n",
       "      <td>117.0</td>\n",
       "      <td>...</td>\n",
       "      <td>NaN</td>\n",
       "      <td>NaN</td>\n",
       "      <td>NaN</td>\n",
       "      <td>NaN</td>\n",
       "      <td>NaN</td>\n",
       "      <td>NaN</td>\n",
       "      <td>NaN</td>\n",
       "      <td>NaN</td>\n",
       "      <td>3</td>\n",
       "      <td>0_1_</td>\n",
       "    </tr>\n",
       "    <tr>\n",
       "      <th>4</th>\n",
       "      <td>2987004</td>\n",
       "      <td>0</td>\n",
       "      <td>86506</td>\n",
       "      <td>50.0</td>\n",
       "      <td>H</td>\n",
       "      <td>4497</td>\n",
       "      <td>514.0</td>\n",
       "      <td>150.0</td>\n",
       "      <td>mastercard</td>\n",
       "      <td>102.0</td>\n",
       "      <td>...</td>\n",
       "      <td>0.0</td>\n",
       "      <td>0.0</td>\n",
       "      <td>0.0</td>\n",
       "      <td>0.0</td>\n",
       "      <td>0.0</td>\n",
       "      <td>0.0</td>\n",
       "      <td>0.0</td>\n",
       "      <td>0.0</td>\n",
       "      <td>3</td>\n",
       "      <td>0_1_</td>\n",
       "    </tr>\n",
       "  </tbody>\n",
       "</table>\n",
       "<p>5 rows × 396 columns</p>\n",
       "</div>"
      ],
      "text/plain": [
       "   TransactionID  isFraud  TransactionDT  TransactionAmt ProductCD  card1  \\\n",
       "0        2987000        0          86400            68.5         W  13926   \n",
       "1        2987001        0          86401            29.0         W   2755   \n",
       "2        2987002        0          86469            59.0         W   4663   \n",
       "3        2987003        0          86499            50.0         W  18132   \n",
       "4        2987004        0          86506            50.0         H   4497   \n",
       "\n",
       "   card2  card3       card4  card5        ...         V332  V333  V334  V335  \\\n",
       "0    NaN  150.0    discover  142.0        ...          NaN   NaN   NaN   NaN   \n",
       "1  404.0  150.0  mastercard  102.0        ...          NaN   NaN   NaN   NaN   \n",
       "2  490.0  150.0        visa  166.0        ...          NaN   NaN   NaN   NaN   \n",
       "3  567.0  150.0  mastercard  117.0        ...          NaN   NaN   NaN   NaN   \n",
       "4  514.0  150.0  mastercard  102.0        ...          0.0   0.0   0.0   0.0   \n",
       "\n",
       "   V336 V337 V338  V339  email_type  email_null_concat  \n",
       "0   NaN  NaN  NaN   NaN           1               1_1_  \n",
       "1   NaN  NaN  NaN   NaN           3               0_1_  \n",
       "2   NaN  NaN  NaN   NaN           3               0_1_  \n",
       "3   NaN  NaN  NaN   NaN           3               0_1_  \n",
       "4   0.0  0.0  0.0   0.0           3               0_1_  \n",
       "\n",
       "[5 rows x 396 columns]"
      ]
     },
     "execution_count": 7,
     "metadata": {},
     "output_type": "execute_result"
    }
   ],
   "source": [
    "train_trans.head()"
   ]
  },
  {
   "cell_type": "markdown",
   "metadata": {},
   "source": [
    "### Email Preprocessing "
   ]
  },
  {
   "cell_type": "code",
   "execution_count": 8,
   "metadata": {},
   "outputs": [],
   "source": [
    "# email preprocessing \n",
    "emails = {'gmail': 'google', 'att.net': 'att', 'twc.com': 'spectrum', 'scranton.edu': 'other', 'optonline.net': 'other', 'hotmail.co.uk': 'microsoft', 'comcast.net': 'other', 'yahoo.com.mx': 'yahoo', 'yahoo.fr': 'yahoo', 'yahoo.es': 'yahoo', 'charter.net': 'spectrum', 'live.com': 'microsoft', 'aim.com': 'aol', 'hotmail.de': 'microsoft', 'centurylink.net': 'centurylink', 'gmail.com': 'google', 'me.com': 'apple', 'earthlink.net': 'other', 'gmx.de': 'other', 'web.de': 'other', 'cfl.rr.com': 'other', 'hotmail.com': 'microsoft', 'protonmail.com': 'other', 'hotmail.fr': 'microsoft', 'windstream.net': 'other', 'outlook.es': 'microsoft', 'yahoo.co.jp': 'yahoo', 'yahoo.de': 'yahoo', 'servicios-ta.com': 'other', 'netzero.net': 'other', 'suddenlink.net': 'other', 'roadrunner.com': 'other', 'sc.rr.com': 'other', 'live.fr': 'microsoft', 'verizon.net': 'yahoo', 'msn.com': 'microsoft', 'q.com': 'centurylink', 'prodigy.net.mx': 'att', 'frontier.com': 'yahoo', 'anonymous.com': 'other', 'rocketmail.com': 'yahoo', 'sbcglobal.net': 'att', 'frontiernet.net': 'yahoo', 'ymail.com': 'yahoo', 'outlook.com': 'microsoft', 'mail.com': 'other', 'bellsouth.net': 'other', 'embarqmail.com': 'centurylink', 'cableone.net': 'other', 'hotmail.es': 'microsoft', 'mac.com': 'apple', 'yahoo.co.uk': 'yahoo', 'netzero.com': 'other', 'yahoo.com': 'yahoo', 'live.com.mx': 'microsoft', 'ptd.net': 'other', 'cox.net': 'other', 'aol.com': 'aol', 'juno.com': 'other', 'icloud.com': 'apple'}\n",
    "us_emails = ['gmail', 'net', 'edu']"
   ]
  },
  {
   "cell_type": "code",
   "execution_count": 9,
   "metadata": {},
   "outputs": [],
   "source": [
    "emaildomain = ['P_emaildomain', 'R_emaildomain']\n",
    "for c in emaildomain:\n",
    "    train_trans[c + '_bin'] = train_trans[c].map(emails)\n",
    "    test_trans[c + '_bin'] = test_trans[c].map(emails)\n",
    "    \n",
    "    train_trans[c + '_suffix'] = train_trans[c].map(lambda x: str(x).split('.')[-1])\n",
    "    test_trans[c + '_suffix'] = test_trans[c].map(lambda x: str(x).split('.')[-1])\n",
    "    \n",
    "    train_trans[c + '_suffix'] = train_trans[c + '_suffix'].map(lambda x: x if str(x) not in us_emails else 'us')\n",
    "    test_trans[c + '_suffix'] = test_trans[c + '_suffix'].map(lambda x: x if str(x) not in us_emails else 'us')"
   ]
  },
  {
   "cell_type": "markdown",
   "metadata": {},
   "source": [
    "### m_cols"
   ]
  },
  {
   "cell_type": "code",
   "execution_count": 10,
   "metadata": {},
   "outputs": [],
   "source": [
    "m_cols = [c for c in list(train_trans) if 'M' == c[0]]"
   ]
  },
  {
   "cell_type": "code",
   "execution_count": 11,
   "metadata": {},
   "outputs": [
    {
     "data": {
      "application/vnd.jupyter.widget-view+json": {
       "model_id": "7fb1466608ab4bcb86b8e898abd58962",
       "version_major": 2,
       "version_minor": 0
      },
      "text/plain": [
       "HBox(children=(IntProgress(value=0, max=10), HTML(value='')))"
      ]
     },
     "metadata": {},
     "output_type": "display_data"
    },
    {
     "name": "stdout",
     "output_type": "stream",
     "text": [
      "\n"
     ]
    }
   ],
   "source": [
    "# Use \"M_cols\" information\n",
    "train_m = train_trans[['TransactionID'] + m_cols]\n",
    "test_m = test_trans[['TransactionID'] + m_cols]\n",
    "\n",
    "# Combination of all \"M\" columns\n",
    "train_m['m_comb'] = ''\n",
    "test_m['m_comb'] = ''\n",
    "for col in m_cols:\n",
    "    train_m['m_comb'] += train_m[col].astype(np.str) +'_' \n",
    "    test_m['m_comb'] += test_m[col].astype(np.str) +'_' \n",
    "\n",
    "# If the combination is not in the common value, replace those into \"Unknown\"\n",
    "unique_trn_m_comb = np.unique(  train_m['m_comb'] )\n",
    "unique_ts_m_comb  = np.unique(  test_m['m_comb'] )\n",
    "common_m_comb = np.intersect1d( unique_trn_m_comb , unique_ts_m_comb )\n",
    "\n",
    "train_m.loc[~train_m['m_comb'].isin(common_m_comb), 'm_comb'] = 'Unknown'\n",
    "test_m.loc[~test_m['m_comb'].isin(common_m_comb), 'm_comb'] = 'Unknown'\n",
    "\n",
    "# Sum of the null value for all \"M\" columns & \"# of True value\"\n",
    "train_m['m_null_sum'] = train_m[m_cols].isnull().sum(axis=1)\n",
    "train_m['m_T_sum'] = (train_m[m_cols]=='T').sum(axis=1)\n",
    "test_m['m_null_sum'] = test_m[m_cols].isnull().sum(axis=1)\n",
    "test_m['m_T_sum'] = (test_m[m_cols]=='T').sum(axis=1)\n",
    "\n",
    "# Label Encoding columns related with 'M':\n",
    "# 'm_comb' + m_cols\n",
    "lbl = LabelEncoder()\n",
    "\n",
    "for col in tqdm_notebook( m_cols + ['m_comb'] ):\n",
    "    lbl.fit( train_m[col].fillna('Unknown') )\n",
    "    train_m[col] = lbl.transform( train_m[col].fillna('Unknown')  ).astype(np.int8)\n",
    "    test_m[col] = lbl.transform( test_m[col].fillna('Unknown')  ).astype(np.int8)\n",
    "    \n",
    "train_m = train_m[['TransactionID', 'm_comb','m_null_sum','m_T_sum']]\n",
    "test_m = test_m[['TransactionID', 'm_comb','m_null_sum','m_T_sum']]\n",
    "\n",
    "train_trans = train_trans.merge(train_m, on ='TransactionID', how='left')\n",
    "test_trans = test_trans.merge(test_m, on ='TransactionID', how='left')"
   ]
  },
  {
   "cell_type": "markdown",
   "metadata": {},
   "source": [
    "## 2. Feature Engineering "
   ]
  },
  {
   "cell_type": "markdown",
   "metadata": {},
   "source": [
    "### Date"
   ]
  },
  {
   "cell_type": "code",
   "execution_count": 12,
   "metadata": {
    "scrolled": true
   },
   "outputs": [],
   "source": [
    "# timeblock으로 시간을 만드는 코드 \n",
    "import datetime \n",
    "\n",
    "start_date = datetime.datetime.strptime('2017.11.30', '%Y.%m.%d')\n",
    "train_trans['timeblock'] = train_trans['TransactionDT'].apply(lambda x: datetime.timedelta(seconds = x) + start_date ) \n",
    "test_trans['timeblock'] = test_trans['TransactionDT'].apply(lambda x: datetime.timedelta(seconds = x) + start_date ) \n",
    "\n",
    "tb = train_trans['timeblock']\n",
    "train_trans.drop('timeblock', 1, inplace=True)\n",
    "train_trans.insert(0, 'timeblock', tb)\n",
    "\n",
    "tb = test_trans['timeblock']\n",
    "test_trans.drop('timeblock', 1, inplace=True)\n",
    "test_trans.insert(0, 'timeblock', tb)\n",
    "\n",
    "# \"가입일로부터의 시간\"(D8)을 통해 \"가입일\"을 만드는 코드. \n",
    "def account_start_date(val):\n",
    "    if np.isnan(val) :\n",
    "        return np.NaN\n",
    "    else:\n",
    "        days=  int( str(val).split('.')[0])\n",
    "        return pd.Timedelta( str(days) +' days')\n",
    "    \n",
    "for i in ['D1', 'D2',  'D4', 'D8','D10', 'D15']:\n",
    "    train_trans['account_start_day'] = train_trans[i].apply(account_start_date)\n",
    "    test_trans['account_start_day'] = test_trans[i].apply(account_start_date)\n",
    "\n",
    "    # account_make_date 컴퓨터가 인식할 수 있도록 수치형으로 바꿔 줌. \n",
    "    train_trans['account_make_date'] = (train_trans['timeblock'] - train_trans['account_start_day']).dt.date\n",
    "    test_trans['account_make_date'] = (test_trans['timeblock'] - test_trans['account_start_day']).dt.date\n",
    "\n",
    "    train_trans['account_make_date_{}'.format(i)] = (10000 * pd.to_datetime(train_trans['account_make_date']).dt.year) + (100 * pd.to_datetime(train_trans['account_make_date']).dt.month) + (1 * pd.to_datetime(train_trans['account_make_date']).dt.day)\n",
    "    test_trans['account_make_date_{}'.format(i)] = (10000 * pd.to_datetime(test_trans['account_make_date']).dt.year) + (100 * pd.to_datetime(test_trans['account_make_date']).dt.month) + (1 * pd.to_datetime(test_trans['account_make_date']).dt.day)\n",
    "\n",
    "del train_trans['account_make_date']; del test_trans['account_make_date']\n",
    "del train_trans['account_start_day']; del test_trans['account_start_day']"
   ]
  },
  {
   "cell_type": "code",
   "execution_count": 13,
   "metadata": {},
   "outputs": [],
   "source": [
    "train_trans['date'] = pd.to_datetime(train_trans['timeblock']).dt.date\n",
    "test_trans['date'] = pd.to_datetime(test_trans['timeblock']).dt.date\n",
    "\n",
    "train_trans['year'] = train_trans['timeblock'].dt.year\n",
    "train_trans['month'] = train_trans['timeblock'].dt.month\n",
    "train_trans['day'] = train_trans['timeblock'].dt.day\n",
    "train_trans['dayofweek'] = train_trans['timeblock'].dt.dayofweek\n",
    "train_trans['hour'] = train_trans['timeblock'].dt.hour\n",
    "# train_trans['minute'] = train_trans['timeblock'].dt.minute\n",
    "# train_trans['second'] = train_trans['timeblock'].dt.second\n",
    "\n",
    "test_trans['year'] = test_trans['timeblock'].dt.year\n",
    "test_trans['month'] = test_trans['timeblock'].dt.month\n",
    "test_trans['day'] = test_trans['timeblock'].dt.day\n",
    "test_trans['dayofweek'] = test_trans['timeblock'].dt.dayofweek\n",
    "test_trans['hour'] = test_trans['timeblock'].dt.hour\n",
    "# test_trans['minute'] = test_trans['timeblock'].dt.minute\n",
    "# test_trans['second'] = test_trans['timeblock'].dt.second"
   ]
  },
  {
   "cell_type": "code",
   "execution_count": null,
   "metadata": {},
   "outputs": [],
   "source": []
  },
  {
   "cell_type": "markdown",
   "metadata": {},
   "source": [
    "### 소숫점 "
   ]
  },
  {
   "cell_type": "code",
   "execution_count": 14,
   "metadata": {},
   "outputs": [],
   "source": [
    "train_trans['TransactionAmt_decimal_count'] = ((train_trans['TransactionAmt'] - train_trans['TransactionAmt'].astype(int))).astype(str).apply(lambda x: len(x.split('.')[1]))\n",
    "test_trans['TransactionAmt_decimal_count'] = ((test_trans['TransactionAmt'] - test_trans['TransactionAmt'].astype(int))).astype(str).apply(lambda x: len(x.split('.')[1]))"
   ]
  },
  {
   "cell_type": "code",
   "execution_count": 15,
   "metadata": {},
   "outputs": [],
   "source": [
    "train_trans['TransactionAmt_decimal'] = ((train_trans['TransactionAmt'] - train_trans['TransactionAmt'].astype(int)) * 1000).astype(int)\n",
    "test_trans['TransactionAmt_decimal'] = ((test_trans['TransactionAmt'] - test_trans['TransactionAmt'].astype(int)) * 1000).astype(int)"
   ]
  },
  {
   "cell_type": "markdown",
   "metadata": {},
   "source": [
    "### Count Encoding "
   ]
  },
  {
   "cell_type": "code",
   "execution_count": 16,
   "metadata": {},
   "outputs": [
    {
     "data": {
      "application/vnd.jupyter.widget-view+json": {
       "model_id": "b1f47f6cb86c439e9b7f9d492ca3582b",
       "version_major": 2,
       "version_minor": 0
      },
      "text/plain": [
       "HBox(children=(IntProgress(value=0, max=23), HTML(value='')))"
      ]
     },
     "metadata": {},
     "output_type": "display_data"
    },
    {
     "name": "stdout",
     "output_type": "stream",
     "text": [
      "\n"
     ]
    },
    {
     "data": {
      "application/vnd.jupyter.widget-view+json": {
       "model_id": "1a87a7c55b954add9b39e7870cd2b11f",
       "version_major": 2,
       "version_minor": 0
      },
      "text/plain": [
       "HBox(children=(IntProgress(value=0, max=29), HTML(value='')))"
      ]
     },
     "metadata": {},
     "output_type": "display_data"
    },
    {
     "name": "stdout",
     "output_type": "stream",
     "text": [
      "\n"
     ]
    }
   ],
   "source": [
    "categorical_variables_trans = [\"ProductCD\",\"card1\",\"card2\",\"card3\",\"card4\",\"card5\",\"card6\",\"addr1\",\"addr2\",\"P_emaildomain\",\"R_emaildomain\",\"P_emaildomain_bin\",\n",
    "                   \"R_emaildomain_bin\",\"M1\",\"M2\",\"M3\",\"M4\",\"M5\",\"M6\",\"M7\",\"M8\",\"M9\",'email_null_concat']\n",
    "\n",
    "categorical_variables_idf = [\"DeviceType\",\"DeviceInfo\",\"id_12\",\n",
    "                   \"id_13\",\"id_14\",\"id_15\",\"id_16\",\"id_17\",\"id_18\",\"id_19\",\"id_20\",\"id_21\",\"id_22\",\"id_23\",\"id_24\",\n",
    "                   \"id_25\",\"id_26\",\"id_27\",\"id_28\",\"id_29\",\"id_30\",\"id_31\",\"id_32\",\"id_33\",\"id_34\",\"id_35\",\"id_36\",\n",
    "                   \"id_37\",\"id_38\"]\n",
    "\n",
    "for i in tqdm_notebook(categorical_variables_trans):\n",
    "    train_trans['{}_count_full'.format(i)] = train_trans[i].map(pd.concat([train_trans[i], test_trans[i]], ignore_index=True).value_counts(dropna=False))\n",
    "    test_trans['{}_count_full'.format(i)] = test_trans[i].map(pd.concat([train_trans[i], test_trans[i]], ignore_index=True).value_counts(dropna=False))\n",
    "    \n",
    "for i in tqdm_notebook(categorical_variables_idf):\n",
    "    train_idf['{}_count_full'.format(i)] = train_idf[i].map(pd.concat([train_idf[i], test_idf[i]], ignore_index=True).value_counts(dropna=False))\n",
    "    test_idf['{}_count_full'.format(i)] = test_idf[i].map(pd.concat([train_idf[i], test_idf[i]], ignore_index=True).value_counts(dropna=False))"
   ]
  },
  {
   "cell_type": "markdown",
   "metadata": {},
   "source": [
    "### Preprocessing "
   ]
  },
  {
   "cell_type": "code",
   "execution_count": 17,
   "metadata": {
    "scrolled": true
   },
   "outputs": [
    {
     "data": {
      "application/vnd.jupyter.widget-view+json": {
       "model_id": "4985ec83d64047a888ff0a02717050a7",
       "version_major": 2,
       "version_minor": 0
      },
      "text/plain": [
       "HBox(children=(IntProgress(value=0, max=22), HTML(value='')))"
      ]
     },
     "metadata": {},
     "output_type": "display_data"
    },
    {
     "name": "stdout",
     "output_type": "stream",
     "text": [
      "\n",
      "Mem. usage decreased to 656.67 Mb (66.9% reduction)\n",
      "Mem. usage decreased to 570.68 Mb (66.4% reduction)\n"
     ]
    },
    {
     "data": {
      "application/vnd.jupyter.widget-view+json": {
       "model_id": "3fac99938e3d4a64ad6ffefee13c518c",
       "version_major": 2,
       "version_minor": 0
      },
      "text/plain": [
       "HBox(children=(IntProgress(value=0, max=29), HTML(value='')))"
      ]
     },
     "metadata": {},
     "output_type": "display_data"
    },
    {
     "name": "stdout",
     "output_type": "stream",
     "text": [
      "\n",
      "Mem. usage decreased to 44.84 Mb (41.8% reduction)\n",
      "Mem. usage decreased to 44.12 Mb (41.8% reduction)\n"
     ]
    }
   ],
   "source": [
    "train_trans, test_trans =  transform_transaction_catcols(train_trans, test_trans)\n",
    "train_idf, test_idf =  transform_identity_catcols(train_idf, test_idf)"
   ]
  },
  {
   "cell_type": "code",
   "execution_count": 18,
   "metadata": {},
   "outputs": [
    {
     "data": {
      "application/vnd.jupyter.widget-view+json": {
       "model_id": "795f52533187466194bafc930f258b81",
       "version_major": 2,
       "version_minor": 0
      },
      "text/plain": [
       "HBox(children=(IntProgress(value=0, max=12), HTML(value='')))"
      ]
     },
     "metadata": {},
     "output_type": "display_data"
    },
    {
     "name": "stdout",
     "output_type": "stream",
     "text": [
      "\n"
     ]
    }
   ],
   "source": [
    "total_trans = pd.concat([train_trans,test_trans],axis=0,sort=False)\n",
    "D_columns = [c for c in train_trans.columns if (c[0] == 'D')]\n",
    "D_columns.remove('D1'); D_columns.remove('D2'); D_columns.remove('D9')\n",
    "\n",
    "for i in tqdm_notebook(D_columns):\n",
    "    total_trans_size = total_trans.groupby(['year','month'])[i].agg({'mean','std'}).reset_index()\n",
    "    train_trans = train_trans.merge(total_trans_size,how='left',on=['year','month'])\n",
    "    test_trans = test_trans.merge(total_trans_size,how='left',on=['year','month'])\n",
    "    \n",
    "    train_trans[i] = (train_trans[i] -  train_trans['mean'])/ train_trans['std']\n",
    "    test_trans[i] = (test_trans[i] -  test_trans['mean'])/ test_trans['std']\n",
    "    del train_trans['mean']; del test_trans['mean']; del train_trans['std']; del test_trans['std']"
   ]
  },
  {
   "cell_type": "markdown",
   "metadata": {},
   "source": [
    "### 카테고리의 결합 "
   ]
  },
  {
   "cell_type": "code",
   "execution_count": 19,
   "metadata": {},
   "outputs": [],
   "source": [
    "train_trans['card1_addr1'] = train_trans['card1'].astype(str) + '_' + train_trans['addr1'].astype(str)\n",
    "test_trans['card1_addr1'] = test_trans['card1'].astype(str) + '_' + test_trans['addr1'].astype(str)"
   ]
  },
  {
   "cell_type": "code",
   "execution_count": 20,
   "metadata": {},
   "outputs": [],
   "source": [
    "train_trans['card1_addr2'] = train_trans['card1'].astype(str) + '_' + train_trans['addr2'].astype(str)\n",
    "test_trans['card1_addr2'] = test_trans['card1'].astype(str) + '_' + test_trans['addr2'].astype(str)"
   ]
  },
  {
   "cell_type": "code",
   "execution_count": 21,
   "metadata": {},
   "outputs": [],
   "source": [
    "train_trans['card1_ProductCD'] = train_trans['card1'].astype(str) + '_' + train_trans['ProductCD'].astype(str)\n",
    "test_trans['card1_ProductCD'] = test_trans['card1'].astype(str) + '_' + test_trans['ProductCD'].astype(str)"
   ]
  },
  {
   "cell_type": "code",
   "execution_count": 22,
   "metadata": {},
   "outputs": [],
   "source": [
    "train_trans['TransactionAmt_ProductCD'] = train_trans['TransactionAmt'].astype(str) + '_' + train_trans['ProductCD'].astype(str)\n",
    "test_trans['TransactionAmt_ProductCD'] = test_trans['TransactionAmt'].astype(str) + '_' + test_trans['ProductCD'].astype(str)"
   ]
  },
  {
   "cell_type": "code",
   "execution_count": 23,
   "metadata": {},
   "outputs": [],
   "source": [
    "train_trans['addr1_addr2'] = train_trans['addr1'].astype(str) + '_' + train_trans['addr2'].astype(str)\n",
    "test_trans['addr1_addr2'] = test_trans['addr1'].astype(str) + '_' + test_trans['addr2'].astype(str)"
   ]
  },
  {
   "cell_type": "markdown",
   "metadata": {},
   "source": [
    "### 결합된 카테고리의 Count Encoding "
   ]
  },
  {
   "cell_type": "code",
   "execution_count": 24,
   "metadata": {},
   "outputs": [
    {
     "data": {
      "application/vnd.jupyter.widget-view+json": {
       "model_id": "b9c50838bb8f4a2d90bcf40a635364a3",
       "version_major": 2,
       "version_minor": 0
      },
      "text/plain": [
       "HBox(children=(IntProgress(value=0, max=5), HTML(value='')))"
      ]
     },
     "metadata": {},
     "output_type": "display_data"
    },
    {
     "name": "stdout",
     "output_type": "stream",
     "text": [
      "\n"
     ]
    }
   ],
   "source": [
    "categorical_variables_trans = [\"card1_addr1\", \"card1_addr2\", \"card1_ProductCD\",'TransactionAmt_ProductCD','addr1_addr2']\n",
    "\n",
    "categorical_variables_idf = []\n",
    "\n",
    "for i in tqdm_notebook(categorical_variables_trans):\n",
    "    train_trans['{}_count_full'.format(i)] = train_trans[i].map(pd.concat([train_trans[i], test_trans[i]], ignore_index=True).value_counts(dropna=False))\n",
    "    test_trans['{}_count_full'.format(i)] = test_trans[i].map(pd.concat([train_trans[i], test_trans[i]], ignore_index=True).value_counts(dropna=False))"
   ]
  },
  {
   "cell_type": "markdown",
   "metadata": {},
   "source": [
    "### 같은 날 같은 card1으로 구매한 동일한 TransactionAmt "
   ]
  },
  {
   "cell_type": "code",
   "execution_count": 25,
   "metadata": {},
   "outputs": [],
   "source": [
    "train_trans_Amt = pd.DataFrame(train_trans.groupby(['date','card1','TransactionAmt'])['TransactionAmt'].agg({'count'})).reset_index()\n",
    "test_trans_Amt = pd.DataFrame(test_trans.groupby(['date','card1','TransactionAmt'])['TransactionAmt'].agg({'count'})).reset_index()"
   ]
  },
  {
   "cell_type": "code",
   "execution_count": 26,
   "metadata": {},
   "outputs": [],
   "source": [
    "train_trans_Amt1 = pd.DataFrame(train_trans.groupby(['date','card3','addr1','TransactionAmt'])['TransactionAmt'].agg({'count'})).reset_index()\n",
    "test_trans_Amt1 = pd.DataFrame(test_trans.groupby(['date','card3','addr1','TransactionAmt'])['TransactionAmt'].agg({'count'})).reset_index()"
   ]
  },
  {
   "cell_type": "markdown",
   "metadata": {},
   "source": [
    "### 결합"
   ]
  },
  {
   "cell_type": "code",
   "execution_count": 27,
   "metadata": {},
   "outputs": [],
   "source": [
    "# Data Merge\n",
    "train_df = pd.merge(train_trans,train_idf,how='left',on='TransactionID')\n",
    "test_df = pd.merge(test_trans,test_idf,how='left',on='TransactionID')"
   ]
  },
  {
   "cell_type": "markdown",
   "metadata": {},
   "source": [
    "### Prev_click , Next_click , Prev_Amt , Next_Amt with id info. "
   ]
  },
  {
   "cell_type": "code",
   "execution_count": 28,
   "metadata": {
    "scrolled": true
   },
   "outputs": [],
   "source": [
    "# ['id_30','id_31','id_33','DeviceType','DeviceInfo']\n",
    "train_df['id_30_31_33_Type_Info_prev_click'] = train_df['TransactionDT'] - train_df.groupby(['id_30','id_31','id_33','DeviceType','DeviceInfo'])['TransactionDT'].shift(1)\n",
    "test_df['id_30_31_33_Type_Info_prev_click'] = test_df['TransactionDT'] - test_df.groupby(['id_30','id_31','id_33','DeviceType','DeviceInfo'])['TransactionDT'].shift(1)\n",
    "\n",
    "train_df['id_30_31_33_Type_Info_next_click'] = train_df['TransactionDT'] - train_df.groupby(['id_30','id_31','id_33','DeviceType','DeviceInfo'])['TransactionDT'].shift(-1)\n",
    "test_df['id_30_31_33_Type_Info_next_click'] = test_df['TransactionDT'] - test_df.groupby(['id_30','id_31','id_33','DeviceType','DeviceInfo'])['TransactionDT'].shift(-1)"
   ]
  },
  {
   "cell_type": "markdown",
   "metadata": {},
   "source": [
    "### Merge"
   ]
  },
  {
   "cell_type": "code",
   "execution_count": 29,
   "metadata": {
    "scrolled": true
   },
   "outputs": [],
   "source": [
    "# Data Merge\n",
    "train_df = pd.merge(train_df,train_trans_Amt,how='left',on=['date','card1','TransactionAmt'])\n",
    "test_df = pd.merge(test_df,test_trans_Amt,how='left',on=['date','card1','TransactionAmt'])"
   ]
  },
  {
   "cell_type": "code",
   "execution_count": 30,
   "metadata": {},
   "outputs": [],
   "source": [
    "# Data Merge\n",
    "train_df = pd.merge(train_df,train_trans_Amt1,how='left',on=['date','card3','addr1','TransactionAmt'])\n",
    "test_df = pd.merge(test_df,test_trans_Amt1,how='left',on=['date','card3','addr1','TransactionAmt'])"
   ]
  },
  {
   "cell_type": "markdown",
   "metadata": {},
   "source": [
    "### kyakovlev 변수 "
   ]
  },
  {
   "cell_type": "code",
   "execution_count": 31,
   "metadata": {},
   "outputs": [],
   "source": [
    "# 점수비교 \n",
    "# https://www.kaggle.com/kyakovlev/ieee-gb-2-make-amount-useful-again\n",
    "\n",
    "train_df['uid'] = train_df['card1'].astype(str)+'_'+train_df['card2'].astype(str)+'_'+train_df['card3'].astype(str)+'_'+train_df['card4'].astype(str)\n",
    "test_df['uid'] = test_df['card1'].astype(str)+'_'+test_df['card2'].astype(str)+'_'+test_df['card3'].astype(str)+'_'+test_df['card4'].astype(str)\n",
    "\n",
    "train_df['uid2'] = train_df['uid'].astype(str)+'_'+train_df['addr1'].astype(str)+'_'+train_df['addr2'].astype(str)\n",
    "test_df['uid2'] = test_df['uid'].astype(str)+'_'+test_df['addr1'].astype(str)+'_'+test_df['addr2'].astype(str)\n",
    "\n",
    "i_cols = ['card1','card2','card3','card5','uid','uid2']\n",
    "\n",
    "for col in i_cols:\n",
    "    for agg_type in ['mean', 'std', 'nunique']:\n",
    "        new_col_name = col+'_TransactionAmt_'+agg_type\n",
    "        temp_df = pd.concat([train_df[[col, 'TransactionAmt']], test_df[[col,'TransactionAmt']]])\n",
    "        temp_df = temp_df.groupby([col])['TransactionAmt'].agg([agg_type]).reset_index().rename(\n",
    "                                                columns={agg_type: new_col_name})\n",
    "        \n",
    "        temp_df.index = list(temp_df[col])\n",
    "        temp_df = temp_df[new_col_name].to_dict()   \n",
    "    \n",
    "        train_df[new_col_name] = train_df[col].map(temp_df)\n",
    "        test_df[new_col_name]  = test_df[col].map(temp_df)\n",
    "        \n",
    "########################### Anomaly Search in geo information\n",
    "\n",
    "# Let's look on bank addres and client addres matching\n",
    "# card3/card5 bank country and name?\n",
    "# Addr2 -> Clients geo position (country)\n",
    "# Most common entries -> normal transactions\n",
    "# Less common etries -> some anonaly\n",
    "train_df['bank_type'] = train_df['card3'].astype(str)+'_'+train_df['card5'].astype(str)\n",
    "test_df['bank_type']  = test_df['card3'].astype(str)+'_'+test_df['card5'].astype(str)\n",
    "\n",
    "train_df['address_match'] = train_df['bank_type'].astype(str)+'_'+train_df['addr2'].astype(str)\n",
    "test_df['address_match']  = test_df['bank_type'].astype(str)+'_'+test_df['addr2'].astype(str)\n",
    "\n",
    "for col in ['address_match','bank_type']:\n",
    "    temp_df = pd.concat([train_df[[col]], test_df[[col]]])\n",
    "    temp_df[col] = np.where(temp_df[col].str.contains('nan'), np.nan, temp_df[col])\n",
    "    temp_df = temp_df.dropna()\n",
    "    fq_encode = temp_df[col].value_counts().to_dict()   \n",
    "    train_df[col] = train_df[col].map(fq_encode)\n",
    "    test_df[col]  = test_df[col].map(fq_encode)\n",
    "\n",
    "train_df['address_match'] = train_df['address_match']/train_df['bank_type'] \n",
    "test_df['address_match']  = test_df['address_match']/test_df['bank_type']"
   ]
  },
  {
   "cell_type": "markdown",
   "metadata": {},
   "source": [
    "### Aggregate"
   ]
  },
  {
   "cell_type": "code",
   "execution_count": 32,
   "metadata": {
    "scrolled": true
   },
   "outputs": [],
   "source": [
    "i_cols = ['uid','uid2', \"card1_addr2\", \"card1_ProductCD\"]\n",
    "\n",
    "for col in i_cols:\n",
    "    for agg_type in ['median']:\n",
    "        new_col_name = col+'_hour_'+agg_type\n",
    "        temp_df = pd.concat([train_df[[col, 'hour']], test_df[[col,'hour']]])\n",
    "        temp_df = temp_df.groupby([col])['hour'].agg([agg_type]).reset_index().rename(\n",
    "                                                columns={agg_type: new_col_name})\n",
    "        \n",
    "        temp_df.index = list(temp_df[col])\n",
    "        temp_df = temp_df[new_col_name].to_dict()   \n",
    "    \n",
    "        train_df[new_col_name] = train_df[col].map(temp_df)\n",
    "        test_df[new_col_name]  = test_df[col].map(temp_df)"
   ]
  },
  {
   "cell_type": "markdown",
   "metadata": {},
   "source": [
    "### prev / next click "
   ]
  },
  {
   "cell_type": "code",
   "execution_count": 33,
   "metadata": {},
   "outputs": [],
   "source": [
    "# train_df['uid2_prev_click'] = train_df['TransactionDT'] - train_df.groupby(['uid2'])['TransactionDT'].shift(1)\n",
    "# test_df['uid2_prev_click'] = test_df['TransactionDT'] - test_df.groupby(['uid2'])['TransactionDT'].shift(1)\n",
    "total_df = pd.concat([train_df,test_df],axis=0,sort=False)\n",
    "\n",
    "train_df['uid2_next_click'] = train_df['TransactionDT'] - train_df.groupby(['uid2'])['TransactionDT'].shift(-1)\n",
    "test_df['uid2_next_click'] = test_df['TransactionDT'] - test_df.groupby(['uid2'])['TransactionDT'].shift(-1)"
   ]
  },
  {
   "cell_type": "code",
   "execution_count": 34,
   "metadata": {},
   "outputs": [],
   "source": [
    "del train_df['uid']; del train_df['uid2']; del train_df['bank_type']\n",
    "del test_df['uid']; del test_df['uid2']; del test_df['bank_type']"
   ]
  },
  {
   "cell_type": "code",
   "execution_count": 35,
   "metadata": {},
   "outputs": [],
   "source": [
    "train_df = train_df.merge(total_df.groupby(['card1','account_make_date_D1','ProductCD'])['TransactionAmt'].agg({'mean','std'}).reset_index().rename(columns={'mean':'card1_D1_productCD_Amt_mean','std':'card1_D1_productCD_Amt_std'}), how='left', on = ['card1','account_make_date_D1','ProductCD'])\n",
    "test_df = test_df.merge(total_df.groupby(['card1','account_make_date_D1','ProductCD'])['TransactionAmt'].agg({'mean','std'}).reset_index().rename(columns={'mean':'card1_D1_productCD_Amt_mean','std':'card1_D1_productCD_Amt_std'}), how='left', on = ['card1','account_make_date_D1','ProductCD'])"
   ]
  },
  {
   "cell_type": "code",
   "execution_count": 36,
   "metadata": {},
   "outputs": [],
   "source": [
    "train_df = train_df.merge(total_df.groupby(['card1','card2','card3','card4','addr1','addr2','ProductCD'])['dayofweek'].agg({'mean','std'}).reset_index().rename(columns={'mean':'uid2_dayofweek_mean','std':'uid2_dayofweek_std'}), how='left', on = ['card1','card2','card3','card4','addr1','addr2','ProductCD'])\n",
    "test_df = test_df.merge(total_df.groupby(['card1','card2','card3','card4','addr1','addr2','ProductCD'])['dayofweek'].agg({'mean','std'}).reset_index().rename(columns={'mean':'uid2_dayofweek_mean','std':'uid2_dayofweek_std'}), how='left', on = ['card1','card2','card3','card4','addr1','addr2','ProductCD'])"
   ]
  },
  {
   "cell_type": "markdown",
   "metadata": {},
   "source": [
    "### D1, ProductCD add features\n",
    "card1을 제외하고, D1_make_date와 ProductCD만으로 feature 생성"
   ]
  },
  {
   "cell_type": "code",
   "execution_count": 37,
   "metadata": {},
   "outputs": [],
   "source": [
    "train_df_D1_ProductCD_Amt = pd.DataFrame(train_df.groupby(['date','account_make_date_D1','ProductCD'])['TransactionAmt'].agg({'count'})).reset_index()\n",
    "test_df_D1_ProductCD_Amt = pd.DataFrame(test_df.groupby(['date','account_make_date_D1','ProductCD'])['TransactionAmt'].agg({'count'})).reset_index()\n",
    "train_df_D1_ProductCD_Amt.columns = ['date','account_make_date_D1','ProductCD', 'ProductCD_D1_Amt_byDate']\n",
    "test_df_D1_ProductCD_Amt.columns = ['date','account_make_date_D1','ProductCD','ProductCD_D1_Amt_byDate']"
   ]
  },
  {
   "cell_type": "code",
   "execution_count": 38,
   "metadata": {},
   "outputs": [],
   "source": [
    "# Data Merge\n",
    "train_df = pd.merge(train_df,train_df_D1_ProductCD_Amt,how='left',on=['date','account_make_date_D1','ProductCD'])\n",
    "test_df = pd.merge(test_df,test_df_D1_ProductCD_Amt,how='left',on=['date','account_make_date_D1','ProductCD'])"
   ]
  },
  {
   "cell_type": "code",
   "execution_count": null,
   "metadata": {},
   "outputs": [],
   "source": [
    "train_df = train_df.merge(total_df.groupby(['account_make_date_D1','hour','ProductCD'])['TransactionAmt'].agg({'mean','std'}).reset_index().rename(columns={'mean':'D1_productCD_hour_Amt_mean','std':'D1_productCD_hour_Amt_std'}), how='left', on = ['account_make_date_D1','hour','ProductCD'])\n",
    "test_df = test_df.merge(total_df.groupby(['account_make_date_D1','hour','ProductCD'])['TransactionAmt'].agg({'mean','std'}).reset_index().rename(columns={'mean':'D1_productCD_hour_Amt_mean','std':'D1_productCD_hour_Amt_std'}), how='left', on = ['account_make_date_D1','hour','ProductCD'])"
   ]
  },
  {
   "cell_type": "markdown",
   "metadata": {},
   "source": [
    "### D add features\n",
    "D6, D7, D8, D13, D14는 notnull값에 W가 존재하지 않으며, null값일 경우 Fraud가 증가하는 경향이 발생  \n",
    "따라서 이를 묶어 feature 생성"
   ]
  },
  {
   "cell_type": "code",
   "execution_count": 40,
   "metadata": {},
   "outputs": [
    {
     "name": "stderr",
     "output_type": "stream",
     "text": [
      "C:\\Users\\User\\Anaconda3\\lib\\site-packages\\pandas\\core\\nanops.py:121: RuntimeWarning:\n",
      "\n",
      "Mean of empty slice\n",
      "\n",
      "C:\\Users\\User\\Anaconda3\\lib\\site-packages\\pandas\\core\\nanops.py:121: RuntimeWarning:\n",
      "\n",
      "Mean of empty slice\n",
      "\n"
     ]
    }
   ],
   "source": [
    "train_df['D_sum'] = train_df[['D6', 'D7', 'D8', 'D13', 'D14']].sum(axis = 1)\n",
    "train_df['D_mean'] = train_df[['D6', 'D7', 'D8', 'D13', 'D14']].mean(axis = 1)\n",
    "train_df['D_std'] = train_df[['D6', 'D7', 'D8', 'D13', 'D14']].std(axis = 1)\n",
    "train_df['D_min'] = train_df[['D6', 'D7', 'D8', 'D13', 'D14']].min(axis = 1)\n",
    "train_df['D_max'] = train_df[['D6', 'D7', 'D8', 'D13', 'D14']].max(axis = 1)\n",
    "train_df['D_na_counts'] = train_df[['D6', 'D7', 'D8', 'D13', 'D14']].isna().sum(axis = 1)\n",
    "\n",
    "test_df['D_sum'] = test_df[['D6', 'D7', 'D8', 'D13', 'D14']].sum(axis = 1)\n",
    "test_df['D_mean'] = test_df[['D6', 'D7', 'D8', 'D13', 'D14']].mean(axis = 1)\n",
    "test_df['D_std'] = test_df[['D6', 'D7', 'D8', 'D13', 'D14']].std(axis = 1)\n",
    "test_df['D_min'] = test_df[['D6', 'D7', 'D8', 'D13', 'D14']].min(axis = 1)\n",
    "test_df['D_max'] = test_df[['D6', 'D7', 'D8', 'D13', 'D14']].max(axis = 1)\n",
    "test_df['D_na_counts'] = test_df[['D6', 'D7', 'D8', 'D13', 'D14']].isna().sum(axis = 1)"
   ]
  },
  {
   "cell_type": "markdown",
   "metadata": {},
   "source": [
    "### TransactionAmt-D1make-ProductCD counts"
   ]
  },
  {
   "cell_type": "code",
   "execution_count": 41,
   "metadata": {},
   "outputs": [],
   "source": [
    "train_df['same_Product_po'] = train_df['account_make_date_D1'].astype('str') + train_df['ProductCD'] + train_df['TransactionAmt'].astype('str')\n",
    "test_df['same_Product_po'] = test_df['account_make_date_D1'].astype('str') + test_df['ProductCD'] + test_df['TransactionAmt'].astype('str') "
   ]
  },
  {
   "cell_type": "code",
   "execution_count": 42,
   "metadata": {},
   "outputs": [
    {
     "data": {
      "text/html": [
       "<div>\n",
       "<style scoped>\n",
       "    .dataframe tbody tr th:only-of-type {\n",
       "        vertical-align: middle;\n",
       "    }\n",
       "\n",
       "    .dataframe tbody tr th {\n",
       "        vertical-align: top;\n",
       "    }\n",
       "\n",
       "    .dataframe thead th {\n",
       "        text-align: right;\n",
       "    }\n",
       "</style>\n",
       "<table border=\"1\" class=\"dataframe\">\n",
       "  <thead>\n",
       "    <tr style=\"text-align: right;\">\n",
       "      <th></th>\n",
       "      <th>same_Product_po</th>\n",
       "      <th>same_Product_po_cnt</th>\n",
       "    </tr>\n",
       "  </thead>\n",
       "  <tbody>\n",
       "    <tr>\n",
       "      <th>0</th>\n",
       "      <td>20171224.0R100.0</td>\n",
       "      <td>1736</td>\n",
       "    </tr>\n",
       "    <tr>\n",
       "      <th>1</th>\n",
       "      <td>20181224.0R100.0</td>\n",
       "      <td>1423</td>\n",
       "    </tr>\n",
       "    <tr>\n",
       "      <th>2</th>\n",
       "      <td>20171224.0H50.0</td>\n",
       "      <td>1404</td>\n",
       "    </tr>\n",
       "    <tr>\n",
       "      <th>3</th>\n",
       "      <td>20171220.0R100.0</td>\n",
       "      <td>1240</td>\n",
       "    </tr>\n",
       "    <tr>\n",
       "      <th>4</th>\n",
       "      <td>20181220.0R100.0</td>\n",
       "      <td>1089</td>\n",
       "    </tr>\n",
       "  </tbody>\n",
       "</table>\n",
       "</div>"
      ],
      "text/plain": [
       "    same_Product_po  same_Product_po_cnt\n",
       "0  20171224.0R100.0                 1736\n",
       "1  20181224.0R100.0                 1423\n",
       "2   20171224.0H50.0                 1404\n",
       "3  20171220.0R100.0                 1240\n",
       "4  20181220.0R100.0                 1089"
      ]
     },
     "execution_count": 42,
     "metadata": {},
     "output_type": "execute_result"
    }
   ],
   "source": [
    "df = train_df['same_Product_po'].append(test_df['same_Product_po'])\n",
    "df = df.value_counts().reset_index()\n",
    "df.columns = ['same_Product_po', \"same_Product_po_cnt\"]\n",
    "df.head()"
   ]
  },
  {
   "cell_type": "code",
   "execution_count": 43,
   "metadata": {},
   "outputs": [],
   "source": [
    "train_df = train_df.merge(df, on = 'same_Product_po', how = 'left')\n",
    "test_df = test_df.merge(df, on = 'same_Product_po', how = 'left')"
   ]
  },
  {
   "cell_type": "code",
   "execution_count": 44,
   "metadata": {},
   "outputs": [
    {
     "data": {
      "text/html": [
       "<div>\n",
       "<style scoped>\n",
       "    .dataframe tbody tr th:only-of-type {\n",
       "        vertical-align: middle;\n",
       "    }\n",
       "\n",
       "    .dataframe tbody tr th {\n",
       "        vertical-align: top;\n",
       "    }\n",
       "\n",
       "    .dataframe thead th {\n",
       "        text-align: right;\n",
       "    }\n",
       "</style>\n",
       "<table border=\"1\" class=\"dataframe\">\n",
       "  <thead>\n",
       "    <tr style=\"text-align: right;\">\n",
       "      <th></th>\n",
       "      <th>same_Product_po</th>\n",
       "      <th>date</th>\n",
       "      <th>same_Product_po_cnt_bydate</th>\n",
       "    </tr>\n",
       "  </thead>\n",
       "  <tbody>\n",
       "    <tr>\n",
       "      <th>0</th>\n",
       "      <td>20160308.0S20.0</td>\n",
       "      <td>2017-12-01</td>\n",
       "      <td>1</td>\n",
       "    </tr>\n",
       "    <tr>\n",
       "      <th>1</th>\n",
       "      <td>20160310.0R125.0</td>\n",
       "      <td>2017-12-05</td>\n",
       "      <td>1</td>\n",
       "    </tr>\n",
       "    <tr>\n",
       "      <th>2</th>\n",
       "      <td>20160310.0S20.0</td>\n",
       "      <td>2017-12-02</td>\n",
       "      <td>1</td>\n",
       "    </tr>\n",
       "    <tr>\n",
       "      <th>3</th>\n",
       "      <td>20160316.0R200.0</td>\n",
       "      <td>2017-12-01</td>\n",
       "      <td>2</td>\n",
       "    </tr>\n",
       "    <tr>\n",
       "      <th>4</th>\n",
       "      <td>20160316.0R50.0</td>\n",
       "      <td>2017-12-02</td>\n",
       "      <td>1</td>\n",
       "    </tr>\n",
       "  </tbody>\n",
       "</table>\n",
       "</div>"
      ],
      "text/plain": [
       "    same_Product_po        date  same_Product_po_cnt_bydate\n",
       "0   20160308.0S20.0  2017-12-01                           1\n",
       "1  20160310.0R125.0  2017-12-05                           1\n",
       "2   20160310.0S20.0  2017-12-02                           1\n",
       "3  20160316.0R200.0  2017-12-01                           2\n",
       "4   20160316.0R50.0  2017-12-02                           1"
      ]
     },
     "execution_count": 44,
     "metadata": {},
     "output_type": "execute_result"
    }
   ],
   "source": [
    "df = train_df[['same_Product_po','date']].append(test_df[['same_Product_po','date']])\n",
    "df = df.groupby(['same_Product_po','date']).size().reset_index()\n",
    "df.columns = ['same_Product_po','date', \"same_Product_po_cnt_bydate\"]\n",
    "df.head()"
   ]
  },
  {
   "cell_type": "code",
   "execution_count": 45,
   "metadata": {},
   "outputs": [],
   "source": [
    "train_df = train_df.merge(df, on = ['same_Product_po','date'], how = 'left')\n",
    "test_df = test_df.merge(df, on = ['same_Product_po','date'], how = 'left')"
   ]
  },
  {
   "cell_type": "markdown",
   "metadata": {},
   "source": [
    "### Count Encoding "
   ]
  },
  {
   "cell_type": "raw",
   "metadata": {},
   "source": [
    "# LB 9543\n",
    "train_df['card1_account_make_date_D15'] = train_df['card1'].astype(str) + '_' + train_df['account_make_date_D15'].astype(str)\n",
    "test_df['card1_account_make_date_D15'] = test_df['card1'].astype(str) + '_' + test_df['account_make_date_D15'].astype(str)\n",
    "\n",
    "train_df['card1_account_make_date_D2'] = train_df['card1'].astype(str) + '_' + train_df['account_make_date_D2'].astype(str)\n",
    "test_df['card1_account_make_date_D2'] = test_df['card1'].astype(str) + '_' + test_df['account_make_date_D2'].astype(str)\n",
    "\n",
    "train_df['card1_account_make_date_D10'] = train_df['card1'].astype(str) + '_' + train_df['account_make_date_D10'].astype(str)\n",
    "test_df['card1_account_make_date_D10'] = test_df['card1'].astype(str) + '_' + test_df['account_make_date_D10'].astype(str)\n",
    "\n",
    "for i in ['card1_account_make_date_D15', 'card1_account_make_date_D2', 'card1_account_make_date_D10','account_make_date_D1']:\n",
    "    train_df['{}_count_full'.format(i)] = train_df[i].map(pd.concat([train_df[i], test_df[i]], ignore_index=True).value_counts(dropna=False))\n",
    "    test_df['{}_count_full'.format(i)] = test_df[i].map(pd.concat([train_df[i], test_df[i]], ignore_index=True).value_counts(dropna=False))  \n",
    "    \n",
    "del train_df['card1_account_make_date_D15']; del test_df['card1_account_make_date_D15']\n",
    "del train_df['card1_account_make_date_D2']; del test_df['card1_account_make_date_D2']\n",
    "del train_df['card1_account_make_date_D10']; del test_df['card1_account_make_date_D10']"
   ]
  },
  {
   "cell_type": "code",
   "execution_count": 46,
   "metadata": {},
   "outputs": [],
   "source": [
    "for i in ['account_make_date_D1']:\n",
    "    train_df['{}_count_full'.format(i)] = train_df[i].map(pd.concat([train_df[i], test_df[i]], ignore_index=True).value_counts(dropna=False))\n",
    "    test_df['{}_count_full'.format(i)] = test_df[i].map(pd.concat([train_df[i], test_df[i]], ignore_index=True).value_counts(dropna=False))  "
   ]
  },
  {
   "cell_type": "code",
   "execution_count": 47,
   "metadata": {},
   "outputs": [],
   "source": [
    "train_df = train_df.merge(train_df.groupby(['date','hour'])['TransactionID'].agg({'count'}).reset_index().rename(columns = {'count':'TransactionPerHour'}),how='left',on=['date','hour'])\n",
    "test_df = test_df.merge(test_df.groupby(['date','hour'])['TransactionID'].agg({'count'}).reset_index().rename(columns = {'count':'TransactionPerHour'}),how='left',on=['date','hour'])\n",
    "\n",
    "train_df = train_df.merge(train_df.groupby(['hour'])['TransactionID'].agg({'count'}).reset_index().rename(columns = {'count':'Transactionhourcount'}),how='left',on=['hour'])\n",
    "test_df = test_df.merge(test_df.groupby(['hour'])['TransactionID'].agg({'count'}).reset_index().rename(columns = {'count':'Transactionhourcount'}),how='left',on=['hour'])\n",
    "\n",
    "train_df['TransactionPerHour'] = train_df['TransactionPerHour'] / train_df['Transactionhourcount']\n",
    "test_df['TransactionPerHour'] = test_df['TransactionPerHour'] / test_df['Transactionhourcount']"
   ]
  },
  {
   "cell_type": "markdown",
   "metadata": {},
   "source": [
    "### Label Encoding "
   ]
  },
  {
   "cell_type": "code",
   "execution_count": 48,
   "metadata": {},
   "outputs": [
    {
     "data": {
      "application/vnd.jupyter.widget-view+json": {
       "model_id": "75551f32b292407e8530cfcb6ac47bf9",
       "version_major": 2,
       "version_minor": 0
      },
      "text/plain": [
       "HBox(children=(IntProgress(value=0, max=567), HTML(value='')))"
      ]
     },
     "metadata": {},
     "output_type": "display_data"
    },
    {
     "name": "stdout",
     "output_type": "stream",
     "text": [
      "\n"
     ]
    }
   ],
   "source": [
    "from sklearn.preprocessing import LabelEncoder\n",
    "\n",
    "for col in tqdm_notebook(train_df.columns):\n",
    "    if train_df[col].dtype == 'object':\n",
    "        le = LabelEncoder()\n",
    "        le.fit(list(train_df[col].astype(str).values) + list(test_df[col].astype(str).values))\n",
    "        train_df[col] = le.transform(list(train_df[col].astype(str).values))\n",
    "        test_df[col] = le.transform(list(test_df[col].astype(str).values))   "
   ]
  },
  {
   "cell_type": "markdown",
   "metadata": {},
   "source": [
    "## Feature selection : LightGBM - Adversarial Validation "
   ]
  },
  {
   "cell_type": "code",
   "execution_count": 49,
   "metadata": {},
   "outputs": [],
   "source": [
    "from sklearn.model_selection import KFold, StratifiedKFold, TimeSeriesSplit\n",
    "from sklearn.metrics import roc_auc_score\n",
    "import lightgbm as lgb"
   ]
  },
  {
   "cell_type": "code",
   "execution_count": 50,
   "metadata": {},
   "outputs": [],
   "source": [
    "features = [c for c in train_df.columns if c not in ['TransactionID', 'isFraud','TransactionDT','timeblock','account_start_day', 'date'\n",
    "                                                    , 'year', 'month', 'target', 'day','account_make_date_D11', 'account_make_date_D3', 'account_make_date_D5', 'account_make_date_D4' , 'account_make_date_D8', 'account_make_date_D14', 'account_make_date_D6', 'account_make_date_D12', 'account_make_date_D7'\n",
    "                                                    , 'card_1_2_3_5_nunique', 'card_1_2_3_5_prev_click', 'card_1_2_3_5_next_click', 'card_1_3_TransactionAmt_prev_click', 'card_1_3_TransactionAmt_next_click', 'account_make_date'\n",
    "                                                    , 'poten_card1_nunique_D5', 'poten_card1_nunique_D11','poten_card1_nunique_D6', 'poten_card1_nunique_D3','poten_card1_nunique_D7','poten_card1_nunique_D12','poten_card1_nunique_D8','poten_card1_nunique_D4','poten_card1_nunique_D14'\n",
    "                                                    , 'id_13', 'id_31', 'id_13_count_full', 'id_31_count_full','ProductCD', 'card3', 'card4', 'card5', 'card6', 'M1', 'M2', 'M3',\n",
    "       'M4', 'M5', 'M7', 'M8', 'M9', 'P_emaildomain_bin',\n",
    "       'P_emaildomain_suffix', 'R_emaildomain_bin',\n",
    "       'R_emaildomain_suffix', 'account_make_date',\n",
    "       'account_make_date_D3', 'account_make_date_D4',\n",
    "       'account_make_date_D7', 'account_make_date_D8',\n",
    "       'account_make_date_D11', 'account_make_date_D12',\n",
    "       'account_make_date_D14', 'dayofweek', 'hour', 'card1_addr1',\n",
    "       'card1_ProductCD', 'count_x', 'count_y', 'D15', \"card1_TransactionAmt_mean\",\n",
    "        'card1_addr1hourstd','card1_addr1hourmedian','uid_hour_std','uid2_hour_std','card1_ProductCD_hour_std','card1_addr2_hour_std',\n",
    "        'card1_TransactionAmt_nunique','card2_TransactionAmt_nunique','card3_TransactionAmt_nunique','card5_TransactionAmt_nunique','uid_TransactionAmt_nunique',\n",
    "        'uid_hour_nunique','uid2_hour_nunique','card1_addr2_hour_nunique','card1_ProductCD_hour_nunique','account_make_date_D1','card1_year_month_mean','uid2_D4_mean','uid2_dayofweek_std','DT_M','Transactionhourcount']]"
   ]
  },
  {
   "cell_type": "code",
   "execution_count": null,
   "metadata": {},
   "outputs": [],
   "source": [
    "train = train_df.copy()\n",
    "test = test_df.copy()"
   ]
  },
  {
   "cell_type": "code",
   "execution_count": null,
   "metadata": {},
   "outputs": [],
   "source": [
    "from sklearn import model_selection, preprocessing, metrics\n",
    "\n",
    "train['target'] = 0\n",
    "test['target'] = 1\n",
    "\n",
    "train_test = pd.concat([train, test], axis =0)\n",
    "target = train_test['target'].values\n",
    "\n",
    "train, test = model_selection.train_test_split(train_test, test_size=0.33, random_state=42, shuffle=True)\n",
    "train_y = train['target'].values\n",
    "test_y = test['target'].values\n",
    "del train['target'], test['target']\n",
    "gc.collect()\n",
    "\n",
    "train = lgb.Dataset(train[features], label=train_y)\n",
    "test = lgb.Dataset(test[features], label=test_y)"
   ]
  },
  {
   "cell_type": "code",
   "execution_count": null,
   "metadata": {},
   "outputs": [],
   "source": [
    "# 문제점\n",
    "# 파라미터에 따라서 아래와 결과가 달라짐. \n",
    "params = {'num_leaves': 491,\n",
    "          'min_child_weight': 0.03454472573214212,\n",
    "          'feature_fraction': 0.3797454081646243,\n",
    "          'bagging_fraction': 0.4181193142567742,\n",
    "          'min_data_in_leaf': 106,\n",
    "          'objective': 'binary',\n",
    "          'max_depth': -1,\n",
    "          'learning_rate': 0.006883242363721497,\n",
    "          \"boosting_type\": \"gbdt\",\n",
    "          \"bagging_seed\": 11,\n",
    "          \"metric\": 'auc',\n",
    "          \"verbosity\": -1,\n",
    "          'reg_alpha': 0.3899927210061127,\n",
    "          'reg_lambda': 0.6485237330340494,\n",
    "          'random_state': 47\n",
    "         }"
   ]
  },
  {
   "cell_type": "code",
   "execution_count": null,
   "metadata": {},
   "outputs": [],
   "source": [
    "num_round = 50\n",
    "clf = lgb.train(params, train, num_round, valid_sets = [train, test], verbose_eval=50, early_stopping_rounds = 50)"
   ]
  },
  {
   "cell_type": "code",
   "execution_count": null,
   "metadata": {},
   "outputs": [],
   "source": [
    "feature_imp = pd.DataFrame(sorted(zip(clf.feature_importance(),features)), columns=['Value','Feature'])\n",
    "\n",
    "plt.figure(figsize=(20, 10))\n",
    "sns.barplot(x=\"Value\", y=\"Feature\", data=feature_imp.sort_values(by=\"Value\", ascending=False).head(20))\n",
    "plt.title('LightGBM Features')\n",
    "plt.tight_layout()\n",
    "plt.show()\n",
    "plt.savefig('lgbm_importances-01.png')"
   ]
  },
  {
   "cell_type": "code",
   "execution_count": null,
   "metadata": {
    "scrolled": true
   },
   "outputs": [],
   "source": [
    "feature_imp.sort_values(by='Value',ascending=False)"
   ]
  },
  {
   "cell_type": "code",
   "execution_count": null,
   "metadata": {},
   "outputs": [],
   "source": [
    "feature_imp.sort_values(by='Value',ascending=False).to_csv(\"importance.csv\",index=False)"
   ]
  },
  {
   "cell_type": "raw",
   "metadata": {},
   "source": [
    "[41]\ttraining's auc: 0.901351\tvalid_1's auc: 0.897481\n"
   ]
  },
  {
   "cell_type": "markdown",
   "metadata": {},
   "source": [
    "## RandomForestClassifier - Covariate Shift"
   ]
  },
  {
   "cell_type": "markdown",
   "metadata": {},
   "source": [
    "## LightGBM - 8 : 2 Split "
   ]
  },
  {
   "cell_type": "code",
   "execution_count": 51,
   "metadata": {},
   "outputs": [],
   "source": [
    "from sklearn.model_selection import KFold, StratifiedKFold, TimeSeriesSplit\n",
    "from sklearn.metrics import roc_auc_score\n",
    "import lightgbm as lgb"
   ]
  },
  {
   "cell_type": "code",
   "execution_count": 52,
   "metadata": {},
   "outputs": [],
   "source": [
    "params = {'num_leaves': 491,\n",
    "          'min_child_weight': 0.03454472573214212,\n",
    "          'feature_fraction': 0.3797454081646243,\n",
    "          'bagging_fraction': 0.4181193142567742,\n",
    "          'min_data_in_leaf': 106,\n",
    "          'objective': 'binary',\n",
    "          'max_depth': -1,\n",
    "          'learning_rate': 0.006883242363721497,\n",
    "          \"boosting_type\": \"gbdt\",\n",
    "          \"bagging_seed\": 11,\n",
    "          \"metric\": 'auc',\n",
    "          \"verbosity\": -1,\n",
    "          'reg_alpha': 0.3899927210061127,\n",
    "          'reg_lambda': 0.6485237330340494,\n",
    "          'random_state': 47\n",
    "         }"
   ]
  },
  {
   "cell_type": "code",
   "execution_count": 53,
   "metadata": {},
   "outputs": [],
   "source": [
    "train_df['DT_M'] = (train_df['year']-2017)*12 + train_df['month'] \n",
    "test_df['DT_M'] = (test_df['year']-2017)*12 + test_df['month']"
   ]
  },
  {
   "cell_type": "code",
   "execution_count": 54,
   "metadata": {},
   "outputs": [],
   "source": [
    "y = train_df['isFraud']\n",
    "X = train_df[features].reset_index(drop=True)\n",
    "\n",
    "test = test_df[features].reset_index(drop=True)"
   ]
  },
  {
   "cell_type": "markdown",
   "metadata": {},
   "source": [
    "### Group K fold "
   ]
  },
  {
   "cell_type": "code",
   "execution_count": 55,
   "metadata": {},
   "outputs": [
    {
     "name": "stdout",
     "output_type": "stream",
     "text": [
      "Training on fold 1\n",
      "Training until validation scores don't improve for 100 rounds.\n",
      "[100]\ttraining's auc: 0.956405\tvalid_1's auc: 0.879919\n",
      "[200]\ttraining's auc: 0.968641\tvalid_1's auc: 0.887431\n",
      "[300]\ttraining's auc: 0.978915\tvalid_1's auc: 0.895578\n",
      "[400]\ttraining's auc: 0.986536\tvalid_1's auc: 0.900859\n",
      "[500]\ttraining's auc: 0.991249\tvalid_1's auc: 0.905234\n",
      "[600]\ttraining's auc: 0.994498\tvalid_1's auc: 0.908132\n",
      "[700]\ttraining's auc: 0.996714\tvalid_1's auc: 0.910416\n",
      "[800]\ttraining's auc: 0.998114\tvalid_1's auc: 0.912357\n",
      "[900]\ttraining's auc: 0.998929\tvalid_1's auc: 0.91402\n",
      "[1000]\ttraining's auc: 0.999412\tvalid_1's auc: 0.915384\n",
      "[1100]\ttraining's auc: 0.999681\tvalid_1's auc: 0.916268\n",
      "[1200]\ttraining's auc: 0.999831\tvalid_1's auc: 0.917063\n",
      "[1300]\ttraining's auc: 0.999913\tvalid_1's auc: 0.917482\n",
      "[1400]\ttraining's auc: 0.999956\tvalid_1's auc: 0.917966\n",
      "[1500]\ttraining's auc: 0.999979\tvalid_1's auc: 0.918373\n",
      "[1600]\ttraining's auc: 0.999991\tvalid_1's auc: 0.918973\n",
      "[1700]\ttraining's auc: 0.999996\tvalid_1's auc: 0.919327\n",
      "[1800]\ttraining's auc: 0.999999\tvalid_1's auc: 0.91952\n",
      "[1900]\ttraining's auc: 0.999999\tvalid_1's auc: 0.919697\n",
      "[2000]\ttraining's auc: 1\tvalid_1's auc: 0.919996\n",
      "[2100]\ttraining's auc: 1\tvalid_1's auc: 0.920212\n",
      "[2200]\ttraining's auc: 1\tvalid_1's auc: 0.920524\n",
      "[2300]\ttraining's auc: 1\tvalid_1's auc: 0.920573\n",
      "[2400]\ttraining's auc: 1\tvalid_1's auc: 0.920629\n",
      "[2500]\ttraining's auc: 1\tvalid_1's auc: 0.920578\n",
      "Early stopping, best iteration is:\n",
      "[2428]\ttraining's auc: 1\tvalid_1's auc: 0.920681\n",
      "Fold 1 finished in 0:24:14.074270\n",
      "Training on fold 2\n",
      "Training until validation scores don't improve for 100 rounds.\n",
      "[100]\ttraining's auc: 0.955105\tvalid_1's auc: 0.916595\n",
      "[200]\ttraining's auc: 0.967888\tvalid_1's auc: 0.925044\n",
      "[300]\ttraining's auc: 0.978111\tvalid_1's auc: 0.931921\n",
      "[400]\ttraining's auc: 0.985909\tvalid_1's auc: 0.93758\n",
      "[500]\ttraining's auc: 0.991082\tvalid_1's auc: 0.941581\n",
      "[600]\ttraining's auc: 0.99445\tvalid_1's auc: 0.944688\n",
      "[700]\ttraining's auc: 0.996653\tvalid_1's auc: 0.94668\n",
      "[800]\ttraining's auc: 0.998089\tvalid_1's auc: 0.947999\n",
      "[900]\ttraining's auc: 0.998954\tvalid_1's auc: 0.948887\n",
      "[1000]\ttraining's auc: 0.999435\tvalid_1's auc: 0.949671\n",
      "[1100]\ttraining's auc: 0.999703\tvalid_1's auc: 0.950312\n",
      "[1200]\ttraining's auc: 0.999847\tvalid_1's auc: 0.950714\n",
      "[1300]\ttraining's auc: 0.999923\tvalid_1's auc: 0.951222\n",
      "[1400]\ttraining's auc: 0.999962\tvalid_1's auc: 0.951603\n",
      "[1500]\ttraining's auc: 0.999982\tvalid_1's auc: 0.951884\n",
      "[1600]\ttraining's auc: 0.999992\tvalid_1's auc: 0.952037\n",
      "[1700]\ttraining's auc: 0.999997\tvalid_1's auc: 0.952303\n",
      "[1800]\ttraining's auc: 0.999999\tvalid_1's auc: 0.952461\n",
      "[1900]\ttraining's auc: 1\tvalid_1's auc: 0.95252\n",
      "[2000]\ttraining's auc: 1\tvalid_1's auc: 0.952512\n",
      "[2100]\ttraining's auc: 1\tvalid_1's auc: 0.952605\n",
      "[2200]\ttraining's auc: 1\tvalid_1's auc: 0.952562\n",
      "Early stopping, best iteration is:\n",
      "[2118]\ttraining's auc: 1\tvalid_1's auc: 0.952639\n",
      "Fold 2 finished in 0:21:21.997041\n",
      "Training on fold 3\n",
      "Training until validation scores don't improve for 100 rounds.\n",
      "[100]\ttraining's auc: 0.952284\tvalid_1's auc: 0.915285\n",
      "[200]\ttraining's auc: 0.965556\tvalid_1's auc: 0.92468\n",
      "[300]\ttraining's auc: 0.976206\tvalid_1's auc: 0.93164\n",
      "[400]\ttraining's auc: 0.984347\tvalid_1's auc: 0.93781\n",
      "[500]\ttraining's auc: 0.989924\tvalid_1's auc: 0.942416\n",
      "[600]\ttraining's auc: 0.993633\tvalid_1's auc: 0.945965\n",
      "[700]\ttraining's auc: 0.996113\tvalid_1's auc: 0.948517\n",
      "[800]\ttraining's auc: 0.997746\tvalid_1's auc: 0.949925\n",
      "[900]\ttraining's auc: 0.998726\tvalid_1's auc: 0.950882\n",
      "[1000]\ttraining's auc: 0.999287\tvalid_1's auc: 0.951825\n",
      "[1100]\ttraining's auc: 0.999617\tvalid_1's auc: 0.952548\n",
      "[1200]\ttraining's auc: 0.999797\tvalid_1's auc: 0.953094\n",
      "[1300]\ttraining's auc: 0.999894\tvalid_1's auc: 0.95353\n",
      "[1400]\ttraining's auc: 0.999947\tvalid_1's auc: 0.95383\n",
      "[1500]\ttraining's auc: 0.999974\tvalid_1's auc: 0.954072\n",
      "[1600]\ttraining's auc: 0.999988\tvalid_1's auc: 0.954373\n",
      "[1700]\ttraining's auc: 0.999995\tvalid_1's auc: 0.954449\n",
      "[1800]\ttraining's auc: 0.999998\tvalid_1's auc: 0.954713\n",
      "[1900]\ttraining's auc: 0.999999\tvalid_1's auc: 0.954774\n",
      "[2000]\ttraining's auc: 1\tvalid_1's auc: 0.954905\n",
      "[2100]\ttraining's auc: 1\tvalid_1's auc: 0.955052\n",
      "[2200]\ttraining's auc: 1\tvalid_1's auc: 0.955091\n",
      "[2300]\ttraining's auc: 1\tvalid_1's auc: 0.955188\n",
      "[2400]\ttraining's auc: 1\tvalid_1's auc: 0.955322\n",
      "[2500]\ttraining's auc: 1\tvalid_1's auc: 0.955364\n",
      "Early stopping, best iteration is:\n",
      "[2497]\ttraining's auc: 1\tvalid_1's auc: 0.955365\n",
      "Fold 3 finished in 0:18:20.990757\n",
      "Training on fold 4\n",
      "Training until validation scores don't improve for 100 rounds.\n",
      "[100]\ttraining's auc: 0.954228\tvalid_1's auc: 0.907918\n",
      "[200]\ttraining's auc: 0.966471\tvalid_1's auc: 0.917757\n",
      "[300]\ttraining's auc: 0.976924\tvalid_1's auc: 0.926428\n",
      "[400]\ttraining's auc: 0.985191\tvalid_1's auc: 0.933417\n",
      "[500]\ttraining's auc: 0.990307\tvalid_1's auc: 0.93788\n",
      "[600]\ttraining's auc: 0.993779\tvalid_1's auc: 0.940614\n",
      "[700]\ttraining's auc: 0.996203\tvalid_1's auc: 0.942525\n",
      "[800]\ttraining's auc: 0.997772\tvalid_1's auc: 0.943647\n",
      "[900]\ttraining's auc: 0.998735\tvalid_1's auc: 0.944501\n",
      "[1000]\ttraining's auc: 0.99929\tvalid_1's auc: 0.945139\n",
      "[1100]\ttraining's auc: 0.999611\tvalid_1's auc: 0.945589\n",
      "[1200]\ttraining's auc: 0.999793\tvalid_1's auc: 0.945899\n",
      "[1300]\ttraining's auc: 0.999893\tvalid_1's auc: 0.946081\n",
      "[1400]\ttraining's auc: 0.999945\tvalid_1's auc: 0.946286\n",
      "[1500]\ttraining's auc: 0.999973\tvalid_1's auc: 0.946544\n",
      "[1600]\ttraining's auc: 0.999988\tvalid_1's auc: 0.946604\n",
      "[1700]\ttraining's auc: 0.999995\tvalid_1's auc: 0.946653\n",
      "[1800]\ttraining's auc: 0.999998\tvalid_1's auc: 0.946724\n",
      "[1900]\ttraining's auc: 0.999999\tvalid_1's auc: 0.94674\n",
      "Early stopping, best iteration is:\n",
      "[1830]\ttraining's auc: 0.999998\tvalid_1's auc: 0.946846\n",
      "Fold 4 finished in 0:10:34.614958\n",
      "Training on fold 5\n",
      "Training until validation scores don't improve for 100 rounds.\n",
      "[100]\ttraining's auc: 0.956479\tvalid_1's auc: 0.923223\n",
      "[200]\ttraining's auc: 0.968872\tvalid_1's auc: 0.931341\n",
      "[300]\ttraining's auc: 0.978828\tvalid_1's auc: 0.938321\n",
      "[400]\ttraining's auc: 0.986746\tvalid_1's auc: 0.944949\n",
      "[500]\ttraining's auc: 0.991906\tvalid_1's auc: 0.949556\n",
      "[600]\ttraining's auc: 0.995159\tvalid_1's auc: 0.952583\n",
      "[700]\ttraining's auc: 0.997246\tvalid_1's auc: 0.954809\n",
      "[800]\ttraining's auc: 0.998509\tvalid_1's auc: 0.95608\n",
      "[900]\ttraining's auc: 0.999229\tvalid_1's auc: 0.95689\n",
      "[1000]\ttraining's auc: 0.999618\tvalid_1's auc: 0.957561\n",
      "[1100]\ttraining's auc: 0.999813\tvalid_1's auc: 0.958041\n",
      "[1200]\ttraining's auc: 0.999912\tvalid_1's auc: 0.95845\n",
      "[1300]\ttraining's auc: 0.99996\tvalid_1's auc: 0.958769\n",
      "[1400]\ttraining's auc: 0.999983\tvalid_1's auc: 0.959084\n",
      "[1500]\ttraining's auc: 0.999993\tvalid_1's auc: 0.959232\n",
      "[1600]\ttraining's auc: 0.999997\tvalid_1's auc: 0.959409\n",
      "[1700]\ttraining's auc: 0.999999\tvalid_1's auc: 0.959536\n",
      "[1800]\ttraining's auc: 1\tvalid_1's auc: 0.959663\n",
      "[1900]\ttraining's auc: 1\tvalid_1's auc: 0.959774\n",
      "[2000]\ttraining's auc: 1\tvalid_1's auc: 0.959818\n",
      "[2100]\ttraining's auc: 1\tvalid_1's auc: 0.959921\n",
      "[2200]\ttraining's auc: 1\tvalid_1's auc: 0.960006\n",
      "[2300]\ttraining's auc: 1\tvalid_1's auc: 0.960027\n",
      "[2400]\ttraining's auc: 1\tvalid_1's auc: 0.960021\n",
      "Early stopping, best iteration is:\n",
      "[2328]\ttraining's auc: 1\tvalid_1's auc: 0.960027\n",
      "Fold 5 finished in 0:11:40.608725\n",
      "------------------------------\n",
      "Training has finished.\n",
      "Total training time is 1:26:12.591944\n",
      "Mean AUC: 0.9471116046487978\n",
      "Total Validation:  0.9485097310098599\n",
      "------------------------------\n"
     ]
    }
   ],
   "source": [
    "from time import time\n",
    "from sklearn.model_selection import KFold, StratifiedKFold, TimeSeriesSplit, GroupKFold\n",
    "\n",
    "NFOLD = 5\n",
    "folds =  GroupKFold(n_splits=NFOLD)\n",
    "split_groups = train_df['DT_M']\n",
    "\n",
    "aucs = list()\n",
    "feature_importances = pd.DataFrame()\n",
    "feature_importances['feature'] = X.columns\n",
    "oofs = np.zeros(len(train_df))\n",
    "preds = np.zeros(len(test_df))\n",
    "\n",
    "training_start_time = time()\n",
    "for fold, (trn_idx, test_idx) in enumerate(folds.split(X, y, groups = split_groups)):\n",
    "    start_time = time()\n",
    "    print('Training on fold {}'.format(fold + 1))\n",
    "    \n",
    "    trn_data = lgb.Dataset(X.iloc[trn_idx], label=y.iloc[trn_idx])\n",
    "    val_data = lgb.Dataset(X.iloc[test_idx], label=y.iloc[test_idx])\n",
    "    clf = lgb.train(params, trn_data, 10000, valid_sets = [trn_data, val_data], verbose_eval=500, early_stopping_rounds=100)\n",
    "    oofs[test_idx] = clf.predict(X.iloc[test_idx])\n",
    "    preds += clf.predict(test)/NFOLD\n",
    "    \n",
    "    feature_importances['fold_{}'.format(fold + 1)] = clf.feature_importance()\n",
    "    aucs.append(clf.best_score['valid_1']['auc'])\n",
    "    \n",
    "    print('Fold {} finished in {}'.format(fold + 1, str(datetime.timedelta(seconds=time() - start_time))))\n",
    "print('-' * 30)\n",
    "print('Training has finished.')\n",
    "print('Total training time is {}'.format(str(datetime.timedelta(seconds=time() - training_start_time))))\n",
    "print('Mean AUC:', np.mean(aucs))\n",
    "print(\"Total Validation: \", roc_auc_score(y, oofs))\n",
    "print('-' * 30)"
   ]
  },
  {
   "cell_type": "raw",
   "metadata": {},
   "source": [
    "------------------------------\n",
    "LB 9551\n",
    "Training has finished.\n",
    "Total training time is 1:15:08.666788\n",
    "Mean AUC: 0.9469605523659353\n",
    "Total Validation:  0.9482106596886817\n",
    "------------------------------"
   ]
  },
  {
   "cell_type": "raw",
   "metadata": {},
   "source": [
    "------------------------------\n",
    "LB 9554\n",
    "Training has finished.\n",
    "Total training time is 1:26:12.591944\n",
    "Mean AUC: 0.9471116046487978\n",
    "Total Validation:  0.9485097310098599\n",
    "------------------------------"
   ]
  },
  {
   "cell_type": "code",
   "execution_count": 56,
   "metadata": {},
   "outputs": [
    {
     "data": {
      "image/png": "[encoded data removed]",
      "text/plain": [
       "<Figure size 1152x1152 with 1 Axes>"
      ]
     },
     "metadata": {
      "needs_background": "light"
     },
     "output_type": "display_data"
    }
   ],
   "source": [
    "feature_importances['average'] = feature_importances[['fold_{}'.format(fold + 1) for fold in range(folds.n_splits)]].mean(axis=1)\n",
    "feature_importances.to_csv('feature_importances.csv')\n",
    "\n",
    "plt.figure(figsize=(16, 16))\n",
    "sns.barplot(data=feature_importances.sort_values(by='average', ascending=False).head(50), x='average', y='feature');\n",
    "plt.title('50 TOP feature importance over {} folds average'.format(folds.n_splits));"
   ]
  },
  {
   "cell_type": "code",
   "execution_count": 57,
   "metadata": {
    "scrolled": true
   },
   "outputs": [
    {
     "data": {
      "text/html": [
       "<div>\n",
       "<style scoped>\n",
       "    .dataframe tbody tr th:only-of-type {\n",
       "        vertical-align: middle;\n",
       "    }\n",
       "\n",
       "    .dataframe tbody tr th {\n",
       "        vertical-align: top;\n",
       "    }\n",
       "\n",
       "    .dataframe thead th {\n",
       "        text-align: right;\n",
       "    }\n",
       "</style>\n",
       "<table border=\"1\" class=\"dataframe\">\n",
       "  <thead>\n",
       "    <tr style=\"text-align: right;\">\n",
       "      <th></th>\n",
       "      <th>feature</th>\n",
       "      <th>fold_1</th>\n",
       "      <th>fold_2</th>\n",
       "      <th>fold_3</th>\n",
       "      <th>fold_4</th>\n",
       "      <th>fold_5</th>\n",
       "      <th>average</th>\n",
       "    </tr>\n",
       "  </thead>\n",
       "  <tbody>\n",
       "    <tr>\n",
       "      <th>504</th>\n",
       "      <td>card1_D1_productCD_Amt_std</td>\n",
       "      <td>34768</td>\n",
       "      <td>30066</td>\n",
       "      <td>35215</td>\n",
       "      <td>26696</td>\n",
       "      <td>31810</td>\n",
       "      <td>31711.0</td>\n",
       "    </tr>\n",
       "    <tr>\n",
       "      <th>503</th>\n",
       "      <td>card1_D1_productCD_Amt_mean</td>\n",
       "      <td>30504</td>\n",
       "      <td>25882</td>\n",
       "      <td>30876</td>\n",
       "      <td>22359</td>\n",
       "      <td>29088</td>\n",
       "      <td>27741.8</td>\n",
       "    </tr>\n",
       "    <tr>\n",
       "      <th>384</th>\n",
       "      <td>account_make_date_D15</td>\n",
       "      <td>29047</td>\n",
       "      <td>24228</td>\n",
       "      <td>28848</td>\n",
       "      <td>21092</td>\n",
       "      <td>25105</td>\n",
       "      <td>25664.0</td>\n",
       "    </tr>\n",
       "    <tr>\n",
       "      <th>505</th>\n",
       "      <td>uid2_dayofweek_mean</td>\n",
       "      <td>25908</td>\n",
       "      <td>21991</td>\n",
       "      <td>25858</td>\n",
       "      <td>18796</td>\n",
       "      <td>24425</td>\n",
       "      <td>23395.6</td>\n",
       "    </tr>\n",
       "    <tr>\n",
       "      <th>518</th>\n",
       "      <td>account_make_date_D1_count_full</td>\n",
       "      <td>25825</td>\n",
       "      <td>21604</td>\n",
       "      <td>25579</td>\n",
       "      <td>18245</td>\n",
       "      <td>24012</td>\n",
       "      <td>23053.0</td>\n",
       "    </tr>\n",
       "  </tbody>\n",
       "</table>\n",
       "</div>"
      ],
      "text/plain": [
       "                             feature  fold_1  fold_2  fold_3  fold_4  fold_5  \\\n",
       "504       card1_D1_productCD_Amt_std   34768   30066   35215   26696   31810   \n",
       "503      card1_D1_productCD_Amt_mean   30504   25882   30876   22359   29088   \n",
       "384            account_make_date_D15   29047   24228   28848   21092   25105   \n",
       "505              uid2_dayofweek_mean   25908   21991   25858   18796   24425   \n",
       "518  account_make_date_D1_count_full   25825   21604   25579   18245   24012   \n",
       "\n",
       "     average  \n",
       "504  31711.0  \n",
       "503  27741.8  \n",
       "384  25664.0  \n",
       "505  23395.6  \n",
       "518  23053.0  "
      ]
     },
     "execution_count": 57,
     "metadata": {},
     "output_type": "execute_result"
    }
   ],
   "source": [
    "feature_importances.sort_values(by='average',ascending=False).head()"
   ]
  },
  {
   "cell_type": "code",
   "execution_count": 59,
   "metadata": {},
   "outputs": [],
   "source": [
    "sub1 = pd.read_csv(\"input/sample_submission.csv\")\n",
    "sub1['isFraud'] = preds\n",
    "sub1.to_csv('BaseLine_IEEE_Model_9551_ka.csv', index=False)"
   ]
  },
  {
   "cell_type": "code",
   "execution_count": null,
   "metadata": {},
   "outputs": [],
   "source": []
  }
 ],
 "metadata": {
  "kernelspec": {
   "display_name": "Python 3",
   "language": "python",
   "name": "python3"
  },
  "language_info": {
   "codemirror_mode": {
    "name": "ipython",
    "version": 3
   },
   "file_extension": ".py",
   "mimetype": "text/x-python",
   "name": "python",
   "nbconvert_exporter": "python",
   "pygments_lexer": "ipython3",
   "version": "3.6.8"
  },
  "toc": {
   "base_numbering": 1,
   "nav_menu": {},
   "number_sections": false,
   "sideBar": true,
   "skip_h1_title": false,
   "title_cell": "Table of Contents",
   "title_sidebar": "Contents",
   "toc_cell": false,
   "toc_position": {},
   "toc_section_display": true,
   "toc_window_display": false
  }
 },
 "nbformat": 4,
 "nbformat_minor": 2
}
